{
 "cells": [
  {
   "cell_type": "code",
   "execution_count": 3,
   "metadata": {},
   "outputs": [],
   "source": [
    "# first importing data from kaggle\n",
    "import kaggle"
   ]
  },
  {
   "cell_type": "code",
   "execution_count": 4,
   "metadata": {},
   "outputs": [
    {
     "name": "stdout",
     "output_type": "stream",
     "text": [
      "ref                                                                              deadline             category             reward  teamCount  userHasEntered  \n",
      "-------------------------------------------------------------------------------  -------------------  ---------------  ----------  ---------  --------------  \n",
      "https://www.kaggle.com/competitions/ai-mathematical-olympiad-prize               2024-06-27 23:59:00  Featured         $1,048,576        103           False  \n",
      "https://www.kaggle.com/competitions/llm-prompt-recovery                          2024-04-16 23:59:00  Featured           $200,000       1862           False  \n",
      "https://www.kaggle.com/competitions/home-credit-credit-risk-model-stability      2024-05-27 23:59:00  Featured           $105,000       1447           False  \n",
      "https://www.kaggle.com/competitions/pii-detection-removal-from-educational-data  2024-04-23 23:59:00  Featured            $60,000       1733           False  \n",
      "https://www.kaggle.com/competitions/hms-harmful-brain-activity-classification    2024-04-08 23:59:00  Research            $50,000       2711           False  \n",
      "https://www.kaggle.com/competitions/image-matching-challenge-2024                2024-06-03 23:59:00  Research            $50,000        185           False  \n",
      "https://www.kaggle.com/competitions/data-assistants-with-gemma                   2024-04-14 23:59:00  Analytics           $50,000          0           False  \n",
      "https://www.kaggle.com/competitions/playground-series-s4e4                       2024-04-30 23:59:00  Playground             Swag        397            True  \n",
      "https://www.kaggle.com/competitions/planttraits2024                              2024-06-15 22:00:00  Research          Knowledge         66           False  \n",
      "https://www.kaggle.com/competitions/geolifeclef-2024                             2024-05-24 23:59:00  Research          Knowledge         31           False  \n",
      "https://www.kaggle.com/competitions/titanic                                      2030-01-01 00:00:00  Getting Started   Knowledge      16184            True  \n",
      "https://www.kaggle.com/competitions/house-prices-advanced-regression-techniques  2030-01-01 00:00:00  Getting Started   Knowledge       4555           False  \n",
      "https://www.kaggle.com/competitions/spaceship-titanic                            2030-01-01 00:00:00  Getting Started   Knowledge       2670           False  \n",
      "https://www.kaggle.com/competitions/digit-recognizer                             2030-01-01 00:00:00  Getting Started   Knowledge       1855           False  \n",
      "https://www.kaggle.com/competitions/nlp-getting-started                          2030-01-01 00:00:00  Getting Started   Knowledge       1150           False  \n",
      "https://www.kaggle.com/competitions/store-sales-time-series-forecasting          2030-06-30 23:59:00  Getting Started   Knowledge        773           False  \n",
      "https://www.kaggle.com/competitions/connectx                                     2030-01-01 00:00:00  Getting Started   Knowledge        206           False  \n",
      "https://www.kaggle.com/competitions/gan-getting-started                          2030-07-01 23:59:00  Getting Started   Knowledge        113           False  \n",
      "https://www.kaggle.com/competitions/contradictory-my-dear-watson                 2030-07-01 23:59:00  Getting Started   Knowledge         54           False  \n",
      "https://www.kaggle.com/competitions/tpu-getting-started                          2030-06-03 23:59:00  Getting Started   Knowledge         52           False  \n"
     ]
    }
   ],
   "source": [
    "!kaggle competitions list"
   ]
  },
  {
   "cell_type": "code",
   "execution_count": 5,
   "metadata": {},
   "outputs": [
    {
     "name": "stdout",
     "output_type": "stream",
     "text": [
      "playground-series-s4e4.zip: Skipping, found more recently modified local copy (use --force to force download)\n"
     ]
    }
   ],
   "source": [
    "!kaggle competitions download -c playground-series-s4e4"
   ]
  },
  {
   "cell_type": "code",
   "execution_count": 6,
   "metadata": {},
   "outputs": [
    {
     "name": "stdout",
     "output_type": "stream",
     "text": [
      "c:\\My-Files\\Projects\\Kaggle\\abalone-age-prediction\\research\n"
     ]
    }
   ],
   "source": [
    "!cd"
   ]
  },
  {
   "cell_type": "code",
   "execution_count": 7,
   "metadata": {},
   "outputs": [
    {
     "name": "stdout",
     "output_type": "stream",
     "text": [
      "['sample_submission.csv', 'test.csv', 'train.csv']\n"
     ]
    }
   ],
   "source": [
    "# extracting these file to data directory\n",
    "import zipfile \n",
    "import os\n",
    "\n",
    "file_path = \"playground-series-s4e4.zip\"\n",
    "data_path = \"../data/\"\n",
    "\n",
    "os.makedirs(data_path, exist_ok=True)\n",
    "\n",
    "with zipfile.ZipFile(file_path, 'r') as zip_ref:\n",
    "    zip_ref.extractall(data_path)\n",
    "\n",
    "print(os.listdir(data_path))"
   ]
  },
  {
   "cell_type": "code",
   "execution_count": 8,
   "metadata": {},
   "outputs": [],
   "source": [
    "os.remove(file_path)"
   ]
  }
 ],
 "metadata": {
  "kernelspec": {
   "display_name": "base",
   "language": "python",
   "name": "python3"
  },
  "language_info": {
   "codemirror_mode": {
    "name": "ipython",
    "version": 3
   },
   "file_extension": ".py",
   "mimetype": "text/x-python",
   "name": "python",
   "nbconvert_exporter": "python",
   "pygments_lexer": "ipython3",
   "version": "3.11.5"
  }
 },
 "nbformat": 4,
 "nbformat_minor": 2
}
