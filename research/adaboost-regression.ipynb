{
 "cells": [
  {
   "cell_type": "markdown",
   "metadata": {},
   "source": [
    "# Adaboost regression model"
   ]
  },
  {
   "cell_type": "code",
   "execution_count": 1,
   "metadata": {},
   "outputs": [],
   "source": [
    "import pandas as pd \n",
    "from sklearn.model_selection import train_test_split\n",
    "from sklearn.linear_model import LogisticRegression\n",
    "from sklearn.ensemble import AdaBoostClassifier\n",
    "from evolution import rmsle\n",
    "from sklearn.metrics import accuracy_score, classification_report\n",
    "from sklearn.preprocessing import StandardScaler\n",
    "from sklearn.metrics import root_mean_squared_log_error as rmsle"
   ]
  },
  {
   "cell_type": "code",
   "execution_count": 2,
   "metadata": {},
   "outputs": [
    {
     "data": {
      "text/html": [
       "<div>\n",
       "<style scoped>\n",
       "    .dataframe tbody tr th:only-of-type {\n",
       "        vertical-align: middle;\n",
       "    }\n",
       "\n",
       "    .dataframe tbody tr th {\n",
       "        vertical-align: top;\n",
       "    }\n",
       "\n",
       "    .dataframe thead th {\n",
       "        text-align: right;\n",
       "    }\n",
       "</style>\n",
       "<table border=\"1\" class=\"dataframe\">\n",
       "  <thead>\n",
       "    <tr style=\"text-align: right;\">\n",
       "      <th></th>\n",
       "      <th>Sex</th>\n",
       "      <th>Length</th>\n",
       "      <th>Diameter</th>\n",
       "      <th>Height</th>\n",
       "      <th>Whole weight</th>\n",
       "      <th>Whole weight.1</th>\n",
       "      <th>Whole weight.2</th>\n",
       "      <th>Shell weight</th>\n",
       "      <th>Rings</th>\n",
       "    </tr>\n",
       "    <tr>\n",
       "      <th>id</th>\n",
       "      <th></th>\n",
       "      <th></th>\n",
       "      <th></th>\n",
       "      <th></th>\n",
       "      <th></th>\n",
       "      <th></th>\n",
       "      <th></th>\n",
       "      <th></th>\n",
       "      <th></th>\n",
       "    </tr>\n",
       "  </thead>\n",
       "  <tbody>\n",
       "    <tr>\n",
       "      <th>0</th>\n",
       "      <td>1</td>\n",
       "      <td>0.278317</td>\n",
       "      <td>0.288912</td>\n",
       "      <td>0.382451</td>\n",
       "      <td>-0.038314</td>\n",
       "      <td>-0.060061</td>\n",
       "      <td>-0.227155</td>\n",
       "      <td>0.108309</td>\n",
       "      <td>11</td>\n",
       "    </tr>\n",
       "    <tr>\n",
       "      <th>1</th>\n",
       "      <td>1</td>\n",
       "      <td>0.955044</td>\n",
       "      <td>0.900996</td>\n",
       "      <td>0.250897</td>\n",
       "      <td>0.745005</td>\n",
       "      <td>0.573416</td>\n",
       "      <td>1.061143</td>\n",
       "      <td>0.722736</td>\n",
       "      <td>11</td>\n",
       "    </tr>\n",
       "    <tr>\n",
       "      <th>2</th>\n",
       "      <td>2</td>\n",
       "      <td>-3.020727</td>\n",
       "      <td>-2.975535</td>\n",
       "      <td>-2.906386</td>\n",
       "      <td>-1.678148</td>\n",
       "      <td>-1.640084</td>\n",
       "      <td>-1.649238</td>\n",
       "      <td>-1.696570</td>\n",
       "      <td>6</td>\n",
       "    </tr>\n",
       "    <tr>\n",
       "      <th>3</th>\n",
       "      <td>0</td>\n",
       "      <td>0.658976</td>\n",
       "      <td>0.747975</td>\n",
       "      <td>0.382451</td>\n",
       "      <td>0.274140</td>\n",
       "      <td>0.169850</td>\n",
       "      <td>0.357534</td>\n",
       "      <td>0.185113</td>\n",
       "      <td>10</td>\n",
       "    </tr>\n",
       "    <tr>\n",
       "      <th>4</th>\n",
       "      <td>2</td>\n",
       "      <td>0.320613</td>\n",
       "      <td>0.237905</td>\n",
       "      <td>-0.143763</td>\n",
       "      <td>-0.015371</td>\n",
       "      <td>0.140499</td>\n",
       "      <td>-0.093370</td>\n",
       "      <td>-0.218105</td>\n",
       "      <td>9</td>\n",
       "    </tr>\n",
       "  </tbody>\n",
       "</table>\n",
       "</div>"
      ],
      "text/plain": [
       "    Sex    Length  Diameter    Height  Whole weight  Whole weight.1  \\\n",
       "id                                                                    \n",
       "0     1  0.278317  0.288912  0.382451     -0.038314       -0.060061   \n",
       "1     1  0.955044  0.900996  0.250897      0.745005        0.573416   \n",
       "2     2 -3.020727 -2.975535 -2.906386     -1.678148       -1.640084   \n",
       "3     0  0.658976  0.747975  0.382451      0.274140        0.169850   \n",
       "4     2  0.320613  0.237905 -0.143763     -0.015371        0.140499   \n",
       "\n",
       "    Whole weight.2  Shell weight  Rings  \n",
       "id                                       \n",
       "0        -0.227155      0.108309     11  \n",
       "1         1.061143      0.722736     11  \n",
       "2        -1.649238     -1.696570      6  \n",
       "3         0.357534      0.185113     10  \n",
       "4        -0.093370     -0.218105      9  "
      ]
     },
     "execution_count": 2,
     "metadata": {},
     "output_type": "execute_result"
    }
   ],
   "source": [
    "# Load the dataset\n",
    "df = pd.read_csv(\"../data/train.csv\", index_col='id')\n",
    "\n",
    "# standardize the features and lebel the \"Sex\" features\n",
    "df['Sex'] = df['Sex'].map({'F': 1, 'I': 2, 'M': 0})\n",
    "\n",
    "# standardize the features\n",
    "scaler = StandardScaler()\n",
    "scaler.fit(df[['Length', 'Diameter', 'Height', 'Whole weight', 'Whole weight.1', 'Whole weight.2', 'Shell weight']])\n",
    "df[['Length', 'Diameter', 'Height', 'Whole weight', 'Whole weight.1', 'Whole weight.2', 'Shell weight']] = scaler.transform(df[['Length', 'Diameter', 'Height', 'Whole weight', 'Whole weight.1', 'Whole weight.2', 'Shell weight']])\n",
    "df.head()"
   ]
  },
  {
   "cell_type": "code",
   "execution_count": 3,
   "metadata": {},
   "outputs": [
    {
     "name": "stderr",
     "output_type": "stream",
     "text": [
      "c:\\Users\\mohit\\anaconda3\\Lib\\site-packages\\sklearn\\ensemble\\_base.py:156: FutureWarning: `base_estimator` was renamed to `estimator` in version 1.2 and will be removed in 1.4.\n",
      "  warnings.warn(\n"
     ]
    },
    {
     "name": "stdout",
     "output_type": "stream",
     "text": [
      "Accuracy score: 0.30993764829222537\n",
      "Classification report:\n",
      "               precision    recall  f1-score   support\n",
      "\n",
      "           1       0.00      0.00      0.00         6\n",
      "           2       0.00      0.00      0.00         8\n",
      "           3       0.00      0.00      0.00        77\n",
      "           4       0.50      0.02      0.04       284\n",
      "           5       0.00      0.00      0.00       596\n",
      "           6       0.00      0.00      0.00      1088\n",
      "           7       0.29      0.62      0.40      1781\n",
      "           8       0.43      0.45      0.44      2947\n",
      "           9       0.30      0.57      0.39      3482\n",
      "          10       0.24      0.29      0.26      2454\n",
      "          11       0.29      0.29      0.29      1636\n",
      "          12       0.00      0.00      0.00       965\n",
      "          13       0.00      0.00      0.00       786\n",
      "          14       0.00      0.00      0.00       519\n",
      "          15       0.00      0.00      0.00       416\n",
      "          16       0.00      0.00      0.00       287\n",
      "          17       0.00      0.00      0.00       254\n",
      "          18       0.00      0.00      0.00       173\n",
      "          19       0.00      0.00      0.00       121\n",
      "          20       0.00      0.00      0.00        95\n",
      "          21       0.00      0.00      0.00        55\n",
      "          22       0.00      0.00      0.00        22\n",
      "          23       0.00      0.00      0.00        40\n",
      "          24       0.00      0.00      0.00         8\n",
      "          25       0.00      0.00      0.00         6\n",
      "          26       0.00      0.00      0.00         3\n",
      "          27       0.00      0.00      0.00         7\n",
      "          29       0.00      0.00      0.00         7\n",
      "\n",
      "    accuracy                           0.31     18123\n",
      "   macro avg       0.07      0.08      0.07     18123\n",
      "weighted avg       0.22      0.31      0.25     18123\n",
      "\n",
      "EMSLE Score :  0.22667367582400647\n"
     ]
    },
    {
     "name": "stderr",
     "output_type": "stream",
     "text": [
      "c:\\Users\\mohit\\anaconda3\\Lib\\site-packages\\sklearn\\metrics\\_classification.py:1469: UndefinedMetricWarning: Precision and F-score are ill-defined and being set to 0.0 in labels with no predicted samples. Use `zero_division` parameter to control this behavior.\n",
      "  _warn_prf(average, modifier, msg_start, len(result))\n",
      "c:\\Users\\mohit\\anaconda3\\Lib\\site-packages\\sklearn\\metrics\\_classification.py:1469: UndefinedMetricWarning: Precision and F-score are ill-defined and being set to 0.0 in labels with no predicted samples. Use `zero_division` parameter to control this behavior.\n",
      "  _warn_prf(average, modifier, msg_start, len(result))\n",
      "c:\\Users\\mohit\\anaconda3\\Lib\\site-packages\\sklearn\\metrics\\_classification.py:1469: UndefinedMetricWarning: Precision and F-score are ill-defined and being set to 0.0 in labels with no predicted samples. Use `zero_division` parameter to control this behavior.\n",
      "  _warn_prf(average, modifier, msg_start, len(result))\n"
     ]
    }
   ],
   "source": [
    "# splitting the dataset\n",
    "\n",
    "X_train, X_test, y_train, y_test = train_test_split(df[['Sex', 'Length', 'Height', 'Whole weight', 'Whole weight.1', 'Whole weight.2', 'Shell weight']], df['Rings'], test_size=0.2, random_state=42)\n",
    "# now let's train the classifier model\n",
    "linreg = LogisticRegression(multi_class='multinomial', solver='lbfgs', max_iter=1000, random_state=42)\n",
    "adaboost_classifier = AdaBoostClassifier(base_estimator=linreg, n_estimators=50, learning_rate=1.0, random_state=42)\n",
    "\n",
    "adaboost_classifier.fit(X_train, y_train)\n",
    "\n",
    "y_pred = adaboost_classifier.predict(X_test)\n",
    "\n",
    "accuracy = accuracy_score(y_test, y_pred)\n",
    "print(\"Accuracy score:\", accuracy)\n",
    "print(\"Classification report:\\n\", classification_report(y_test, y_pred))\n",
    "print(\"RMSLE Score : \", rmsle(y_test, y_pred))"
   ]
  },
  {
   "cell_type": "code",
   "execution_count": 4,
   "metadata": {},
   "outputs": [],
   "source": [
    "# let's store this model for future use\n",
    "import pickle \n",
    "\n",
    "with open(\"../trained_models/adaboost.pkl\", \"wb\") as f:\n",
    "    pickle.dump(linreg, f)"
   ]
  },
  {
   "cell_type": "code",
   "execution_count": 6,
   "metadata": {},
   "outputs": [],
   "source": [
    "# let's submit knn result to the kaggle competition\n",
    "\n",
    "test_df = pd.read_csv(\"../data/test.csv\", index_col=\"id\")\n",
    "test_df['Sex'] = test_df['Sex'].map({'F': 1, 'I': 2, 'M': 0})\n",
    "\n",
    "test_df[['Length', 'Diameter', 'Height', 'Whole weight', 'Whole weight.1', 'Whole weight.2', 'Shell weight']] = scaler.transform(test_df[['Length', 'Diameter', 'Height', 'Whole weight', 'Whole weight.1', 'Whole weight.2', 'Shell weight']])\n",
    "\n",
    "test_df['pred_Rings'] = adaboost_classifier.predict(test_df[[\"Sex\",'Length', 'Height', 'Whole weight', 'Whole weight.1', 'Whole weight.2', 'Shell weight']])\n",
    "\n",
    "test_df.to_csv('../data/modified_test.csv', index=False)\n",
    "\n",
    "sub = pd.DataFrame({'id': test_df.index, 'Rings': test_df['pred_Rings']})\n",
    "sub.to_csv(\"../submission/adaboost.csv\", index=False)"
   ]
  },
  {
   "cell_type": "code",
   "execution_count": 9,
   "metadata": {},
   "outputs": [
    {
     "name": "stdout",
     "output_type": "stream",
     "text": [
      "Successfully submitted to Regression with an Abalone Dataset\n"
     ]
    },
    {
     "name": "stderr",
     "output_type": "stream",
     "text": [
      "\n",
      "  0%|          | 0.00/596k [00:00<?, ?B/s]\n",
      "  1%|▏         | 8.00k/596k [00:00<00:44, 13.4kB/s]\n",
      "100%|██████████| 596k/596k [00:03<00:00, 159kB/s]  \n"
     ]
    }
   ],
   "source": [
    "# # submitting to kaggle\n",
    "\n",
    "# !kaggle competitions submit -c playground-series-s4e4 -f ../submission/adaboost.csv -m \"adaboost LinearRegression2 model submission\""
   ]
  },
  {
   "cell_type": "code",
   "execution_count": null,
   "metadata": {},
   "outputs": [],
   "source": []
  }
 ],
 "metadata": {
  "kernelspec": {
   "display_name": "base",
   "language": "python",
   "name": "python3"
  },
  "language_info": {
   "codemirror_mode": {
    "name": "ipython",
    "version": 3
   },
   "file_extension": ".py",
   "mimetype": "text/x-python",
   "name": "python",
   "nbconvert_exporter": "python",
   "pygments_lexer": "ipython3",
   "version": "3.11.5"
  }
 },
 "nbformat": 4,
 "nbformat_minor": 2
}
