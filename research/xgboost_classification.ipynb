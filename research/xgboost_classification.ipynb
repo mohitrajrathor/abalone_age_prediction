{
 "cells": [
  {
   "cell_type": "markdown",
   "metadata": {},
   "source": [
    "# XGboost classification model"
   ]
  },
  {
   "cell_type": "code",
   "execution_count": 12,
   "metadata": {},
   "outputs": [],
   "source": [
    "from xgboost import XGBClassifier\n",
    "import xgboost as xgb\n",
    "from sklearn.model_selection import train_test_split\n",
    "import pandas as pd \n",
    "import numpy as np \n",
    "from sklearn.metrics import accuracy_score, classification_report\n",
    "from sklearn.preprocessing import StandardScaler\n",
    "from evolution import rmsle"
   ]
  },
  {
   "cell_type": "code",
   "execution_count": 2,
   "metadata": {},
   "outputs": [
    {
     "name": "stdout",
     "output_type": "stream",
     "text": [
      "Total number of unique rings: 28\n"
     ]
    },
    {
     "data": {
      "text/html": [
       "<div>\n",
       "<style scoped>\n",
       "    .dataframe tbody tr th:only-of-type {\n",
       "        vertical-align: middle;\n",
       "    }\n",
       "\n",
       "    .dataframe tbody tr th {\n",
       "        vertical-align: top;\n",
       "    }\n",
       "\n",
       "    .dataframe thead th {\n",
       "        text-align: right;\n",
       "    }\n",
       "</style>\n",
       "<table border=\"1\" class=\"dataframe\">\n",
       "  <thead>\n",
       "    <tr style=\"text-align: right;\">\n",
       "      <th></th>\n",
       "      <th>id</th>\n",
       "      <th>Sex</th>\n",
       "      <th>Length</th>\n",
       "      <th>Diameter</th>\n",
       "      <th>Height</th>\n",
       "      <th>Whole weight</th>\n",
       "      <th>Whole weight.1</th>\n",
       "      <th>Whole weight.2</th>\n",
       "      <th>Shell weight</th>\n",
       "      <th>Rings</th>\n",
       "    </tr>\n",
       "  </thead>\n",
       "  <tbody>\n",
       "    <tr>\n",
       "      <th>0</th>\n",
       "      <td>0</td>\n",
       "      <td>1</td>\n",
       "      <td>0.278317</td>\n",
       "      <td>0.288912</td>\n",
       "      <td>0.382451</td>\n",
       "      <td>-0.038314</td>\n",
       "      <td>-0.060061</td>\n",
       "      <td>-0.227155</td>\n",
       "      <td>0.108309</td>\n",
       "      <td>11</td>\n",
       "    </tr>\n",
       "    <tr>\n",
       "      <th>1</th>\n",
       "      <td>1</td>\n",
       "      <td>1</td>\n",
       "      <td>0.955044</td>\n",
       "      <td>0.900996</td>\n",
       "      <td>0.250897</td>\n",
       "      <td>0.745005</td>\n",
       "      <td>0.573416</td>\n",
       "      <td>1.061143</td>\n",
       "      <td>0.722736</td>\n",
       "      <td>11</td>\n",
       "    </tr>\n",
       "    <tr>\n",
       "      <th>2</th>\n",
       "      <td>2</td>\n",
       "      <td>2</td>\n",
       "      <td>-3.020727</td>\n",
       "      <td>-2.975535</td>\n",
       "      <td>-2.906386</td>\n",
       "      <td>-1.678148</td>\n",
       "      <td>-1.640084</td>\n",
       "      <td>-1.649238</td>\n",
       "      <td>-1.696570</td>\n",
       "      <td>6</td>\n",
       "    </tr>\n",
       "    <tr>\n",
       "      <th>3</th>\n",
       "      <td>3</td>\n",
       "      <td>0</td>\n",
       "      <td>0.658976</td>\n",
       "      <td>0.747975</td>\n",
       "      <td>0.382451</td>\n",
       "      <td>0.274140</td>\n",
       "      <td>0.169850</td>\n",
       "      <td>0.357534</td>\n",
       "      <td>0.185113</td>\n",
       "      <td>10</td>\n",
       "    </tr>\n",
       "    <tr>\n",
       "      <th>4</th>\n",
       "      <td>4</td>\n",
       "      <td>2</td>\n",
       "      <td>0.320613</td>\n",
       "      <td>0.237905</td>\n",
       "      <td>-0.143763</td>\n",
       "      <td>-0.015371</td>\n",
       "      <td>0.140499</td>\n",
       "      <td>-0.093370</td>\n",
       "      <td>-0.218105</td>\n",
       "      <td>9</td>\n",
       "    </tr>\n",
       "  </tbody>\n",
       "</table>\n",
       "</div>"
      ],
      "text/plain": [
       "   id  Sex    Length  Diameter    Height  Whole weight  Whole weight.1  \\\n",
       "0   0    1  0.278317  0.288912  0.382451     -0.038314       -0.060061   \n",
       "1   1    1  0.955044  0.900996  0.250897      0.745005        0.573416   \n",
       "2   2    2 -3.020727 -2.975535 -2.906386     -1.678148       -1.640084   \n",
       "3   3    0  0.658976  0.747975  0.382451      0.274140        0.169850   \n",
       "4   4    2  0.320613  0.237905 -0.143763     -0.015371        0.140499   \n",
       "\n",
       "   Whole weight.2  Shell weight  Rings  \n",
       "0       -0.227155      0.108309     11  \n",
       "1        1.061143      0.722736     11  \n",
       "2       -1.649238     -1.696570      6  \n",
       "3        0.357534      0.185113     10  \n",
       "4       -0.093370     -0.218105      9  "
      ]
     },
     "execution_count": 2,
     "metadata": {},
     "output_type": "execute_result"
    }
   ],
   "source": [
    "# preparing dataset \n",
    "df = pd.read_csv(\"../data/train.csv\")\n",
    "\n",
    "# standardize the features\n",
    "scaler = StandardScaler()\n",
    "df[['Length', 'Diameter', 'Height', 'Whole weight', 'Whole weight.1', 'Whole weight.2', 'Shell weight']] = scaler.fit_transform(df[['Length', \"Diameter\", 'Height', 'Whole weight', 'Whole weight.1', 'Whole weight.2', 'Shell weight']])\n",
    "\n",
    "#labelling the categorical data\n",
    "df['Sex'] = df['Sex'].map({'F': 1, 'I': 2, 'M': 0})\n",
    "\n",
    "print(\"Total number of unique rings:\",len(df.Rings.unique()))\n",
    "df.head()\n"
   ]
  },
  {
   "cell_type": "code",
   "execution_count": 3,
   "metadata": {},
   "outputs": [
    {
     "data": {
      "text/plain": [
       "array([11,  6, 10,  9,  4,  8, 15,  7, 12, 20, 17, 13, 14,  5, 23,  3, 22,\n",
       "       16, 18, 19, 21, 25,  1, 29,  2, 27, 24, 26], dtype=int64)"
      ]
     },
     "execution_count": 3,
     "metadata": {},
     "output_type": "execute_result"
    }
   ],
   "source": [
    "df.Rings.unique()"
   ]
  },
  {
   "cell_type": "code",
   "execution_count": 4,
   "metadata": {},
   "outputs": [
    {
     "data": {
      "text/plain": [
       "array([10,  5,  9,  8,  3,  7, 14,  6, 11, 19, 16, 12, 13,  4, 22,  2, 21,\n",
       "       15, 17, 18, 20, 24,  0, 27,  1, 26, 23, 25], dtype=int64)"
      ]
     },
     "execution_count": 4,
     "metadata": {},
     "output_type": "execute_result"
    }
   ],
   "source": [
    "from sklearn.preprocessing import LabelEncoder\n",
    "\n",
    "le = LabelEncoder()\n",
    "df['Rings'] = le.fit_transform(df['Rings'])\n",
    "df.Rings.unique()"
   ]
  },
  {
   "cell_type": "code",
   "execution_count": 17,
   "metadata": {},
   "outputs": [
    {
     "name": "stdout",
     "output_type": "stream",
     "text": [
      "[ 7.6398597  6.3472967  8.601193  ... 14.100699  11.066991   9.385225 ]\n"
     ]
    }
   ],
   "source": [
    "# making the xgboost model\n",
    "X_train, X_test, y_train, y_test = train_test_split(df[['Sex','Length', 'Diameter', 'Height', 'Whole weight', 'Whole weight.1', 'Whole weight.2', 'Shell weight']], df['Rings'], test_size=0.33, random_state=42)\n",
    "\n",
    "xgb_model = XGBRegressor(\n",
    "    max_depth=6,\n",
    "    n_estimators=330,\n",
    "    objective='reg:squaredlogerror',\n",
    "    nthread=4,\n",
    "    random_state=0,\n",
    ")\n",
    "\n",
    "xgb_model.fit(df[['Sex','Length', 'Diameter', 'Height', 'Whole weight', 'Whole weight.1', 'Whole weight.2', 'Shell weight']], df['Rings'])\n",
    "preds = xgb_model.predict(X_test)\n",
    "\n",
    "print(preds)\n"
   ]
  },
  {
   "cell_type": "code",
   "execution_count": 26,
   "metadata": {},
   "outputs": [
    {
     "data": {
      "text/plain": [
       "array([ 7,  6,  8, ..., 14, 11,  9])"
      ]
     },
     "execution_count": 26,
     "metadata": {},
     "output_type": "execute_result"
    }
   ],
   "source": [
    "np.floor(preds).astype(int)\n"
   ]
  },
  {
   "cell_type": "code",
   "execution_count": 27,
   "metadata": {},
   "outputs": [
    {
     "name": "stdout",
     "output_type": "stream",
     "text": [
      "RMSLE score : 0.17277025604095445\n"
     ]
    }
   ],
   "source": [
    "# print(\"Accuracy score : \", accuracy_score(y_test, preds))\n",
    "print(\"RMSLE score :\", rmsle(y_test, np.floor(preds).astype(int)))\n",
    "# print(\"Classification report:\\n\", classification_report(y_test, preds))"
   ]
  },
  {
   "cell_type": "code",
   "execution_count": 28,
   "metadata": {},
   "outputs": [],
   "source": [
    "import pickle\n",
    "with open(\"../trained_models/xgboost.pkl\", \"wb\") as f:\n",
    "    pickle.dump(xgb_model, f)\n"
   ]
  },
  {
   "cell_type": "code",
   "execution_count": 29,
   "metadata": {},
   "outputs": [],
   "source": [
    "# submission\n",
    "test_df = pd.read_csv(\"../data/test.csv\", index_col=\"id\")\n",
    "test_df['Sex'] = test_df['Sex'].map({'F': 1, 'I': 2, 'M': 0})\n",
    "\n",
    "test_df[['Length', 'Diameter', 'Height', 'Whole weight', 'Whole weight.1', 'Whole weight.2', 'Shell weight']] = scaler.fit_transform(test_df[['Length', 'Diameter', 'Height', 'Whole weight', 'Whole weight.1', 'Whole weight.2', 'Shell weight']])\n",
    "\n",
    "test_df['pred_Rings'] = xgb_model.predict(test_df[['Sex', 'Length', 'Diameter', 'Height', 'Whole weight', 'Whole weight.1', 'Whole weight.2', 'Shell weight']])\n",
    "test_df.to_csv('../data/modified_test.csv', index=False)\n",
    "\n",
    "sub = pd.DataFrame({'id': test_df.index, 'Rings': np.floor(test_df['pred_Rings'].values).astype(int)})\n",
    "sub.to_csv(\"../submission/xgboost.csv\", index=False)"
   ]
  },
  {
   "cell_type": "code",
   "execution_count": 30,
   "metadata": {},
   "outputs": [
    {
     "name": "stdout",
     "output_type": "stream",
     "text": [
      "Successfully submitted to Regression with an Abalone Dataset\n"
     ]
    },
    {
     "name": "stderr",
     "output_type": "stream",
     "text": [
      "\n",
      "  0%|          | 0.00/595k [00:00<?, ?B/s]\n",
      "  1%|▏         | 8.00k/595k [00:00<00:44, 13.6kB/s]\n",
      " 23%|██▎       | 136k/595k [00:00<00:01, 256kB/s]  \n",
      " 36%|███▋      | 216k/595k [00:00<00:01, 364kB/s]\n",
      " 51%|█████     | 304k/595k [00:00<00:00, 481kB/s]\n",
      " 65%|██████▍   | 384k/595k [00:01<00:00, 541kB/s]\n",
      " 78%|███████▊  | 464k/595k [00:01<00:00, 572kB/s]\n",
      " 94%|█████████▍| 560k/595k [00:01<00:00, 666kB/s]\n",
      "100%|██████████| 595k/595k [00:02<00:00, 208kB/s]\n"
     ]
    }
   ],
   "source": [
    "# submitting to kaggle\n",
    "!kaggle competitions submit -c playground-series-s4e4 -f ../submission/xgboost.csv -m \"xgboost model submission\""
   ]
  },
  {
   "cell_type": "code",
   "execution_count": null,
   "metadata": {},
   "outputs": [],
   "source": []
  }
 ],
 "metadata": {
  "kernelspec": {
   "display_name": "base",
   "language": "python",
   "name": "python3"
  },
  "language_info": {
   "codemirror_mode": {
    "name": "ipython",
    "version": 3
   },
   "file_extension": ".py",
   "mimetype": "text/x-python",
   "name": "python",
   "nbconvert_exporter": "python",
   "pygments_lexer": "ipython3",
   "version": "3.11.5"
  }
 },
 "nbformat": 4,
 "nbformat_minor": 2
}
