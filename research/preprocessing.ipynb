{
 "cells": [
  {
   "cell_type": "markdown",
   "metadata": {},
   "source": [
    "## Proprocessing notebook"
   ]
  },
  {
   "cell_type": "code",
   "execution_count": 5,
   "metadata": {},
   "outputs": [],
   "source": [
    "#  imports \n",
    "import pandas as pd\n",
    "import numpy as np \n",
    "from sklearn.preprocessing import StandardScaler"
   ]
  },
  {
   "cell_type": "code",
   "execution_count": 14,
   "metadata": {},
   "outputs": [
    {
     "data": {
      "text/html": [
       "<div>\n",
       "<style scoped>\n",
       "    .dataframe tbody tr th:only-of-type {\n",
       "        vertical-align: middle;\n",
       "    }\n",
       "\n",
       "    .dataframe tbody tr th {\n",
       "        vertical-align: top;\n",
       "    }\n",
       "\n",
       "    .dataframe thead th {\n",
       "        text-align: right;\n",
       "    }\n",
       "</style>\n",
       "<table border=\"1\" class=\"dataframe\">\n",
       "  <thead>\n",
       "    <tr style=\"text-align: right;\">\n",
       "      <th></th>\n",
       "      <th>Sex</th>\n",
       "      <th>Length</th>\n",
       "      <th>Diameter</th>\n",
       "      <th>Height</th>\n",
       "      <th>Whole weight</th>\n",
       "      <th>Whole weight.1</th>\n",
       "      <th>Whole weight.2</th>\n",
       "      <th>Shell weight</th>\n",
       "      <th>Rings</th>\n",
       "    </tr>\n",
       "    <tr>\n",
       "      <th>id</th>\n",
       "      <th></th>\n",
       "      <th></th>\n",
       "      <th></th>\n",
       "      <th></th>\n",
       "      <th></th>\n",
       "      <th></th>\n",
       "      <th></th>\n",
       "      <th></th>\n",
       "      <th></th>\n",
       "    </tr>\n",
       "  </thead>\n",
       "  <tbody>\n",
       "    <tr>\n",
       "      <th>11538</th>\n",
       "      <td>F</td>\n",
       "      <td>0.630</td>\n",
       "      <td>0.490</td>\n",
       "      <td>0.145</td>\n",
       "      <td>1.217</td>\n",
       "      <td>0.547</td>\n",
       "      <td>0.3135</td>\n",
       "      <td>0.2965</td>\n",
       "      <td>10</td>\n",
       "    </tr>\n",
       "    <tr>\n",
       "      <th>27254</th>\n",
       "      <td>I</td>\n",
       "      <td>0.285</td>\n",
       "      <td>0.215</td>\n",
       "      <td>0.070</td>\n",
       "      <td>0.106</td>\n",
       "      <td>0.053</td>\n",
       "      <td>0.0185</td>\n",
       "      <td>0.0320</td>\n",
       "      <td>6</td>\n",
       "    </tr>\n",
       "  </tbody>\n",
       "</table>\n",
       "</div>"
      ],
      "text/plain": [
       "      Sex  Length  Diameter  Height  Whole weight  Whole weight.1  \\\n",
       "id                                                                  \n",
       "11538   F   0.630     0.490   0.145         1.217           0.547   \n",
       "27254   I   0.285     0.215   0.070         0.106           0.053   \n",
       "\n",
       "       Whole weight.2  Shell weight  Rings  \n",
       "id                                          \n",
       "11538          0.3135        0.2965     10  \n",
       "27254          0.0185        0.0320      6  "
      ]
     },
     "execution_count": 14,
     "metadata": {},
     "output_type": "execute_result"
    }
   ],
   "source": [
    "features = ['Sex','Length', 'Diameter', 'Height', 'Whole weight', 'Whole weight.1', 'Whole weight.2', 'Shell weight']\n",
    "\n",
    "df = pd.read_csv('../data/train.csv', index_col='id')\n",
    "\n",
    "df.sample(2)\n",
    "\n",
    "\n"
   ]
  },
  {
   "cell_type": "code",
   "execution_count": 7,
   "metadata": {},
   "outputs": [
    {
     "data": {
      "text/html": [
       "<div>\n",
       "<style scoped>\n",
       "    .dataframe tbody tr th:only-of-type {\n",
       "        vertical-align: middle;\n",
       "    }\n",
       "\n",
       "    .dataframe tbody tr th {\n",
       "        vertical-align: top;\n",
       "    }\n",
       "\n",
       "    .dataframe thead th {\n",
       "        text-align: right;\n",
       "    }\n",
       "</style>\n",
       "<table border=\"1\" class=\"dataframe\">\n",
       "  <thead>\n",
       "    <tr style=\"text-align: right;\">\n",
       "      <th></th>\n",
       "      <th>Sex</th>\n",
       "      <th>Length</th>\n",
       "      <th>Diameter</th>\n",
       "      <th>Height</th>\n",
       "      <th>Whole weight</th>\n",
       "      <th>Whole weight.1</th>\n",
       "      <th>Whole weight.2</th>\n",
       "      <th>Shell weight</th>\n",
       "      <th>Rings</th>\n",
       "    </tr>\n",
       "    <tr>\n",
       "      <th>id</th>\n",
       "      <th></th>\n",
       "      <th></th>\n",
       "      <th></th>\n",
       "      <th></th>\n",
       "      <th></th>\n",
       "      <th></th>\n",
       "      <th></th>\n",
       "      <th></th>\n",
       "      <th></th>\n",
       "    </tr>\n",
       "  </thead>\n",
       "  <tbody>\n",
       "    <tr>\n",
       "      <th>0</th>\n",
       "      <td>-0.027114</td>\n",
       "      <td>0.278317</td>\n",
       "      <td>0.288912</td>\n",
       "      <td>0.382451</td>\n",
       "      <td>-0.038314</td>\n",
       "      <td>-0.060061</td>\n",
       "      <td>-0.227155</td>\n",
       "      <td>0.108309</td>\n",
       "      <td>11</td>\n",
       "    </tr>\n",
       "    <tr>\n",
       "      <th>1</th>\n",
       "      <td>-0.027114</td>\n",
       "      <td>0.955044</td>\n",
       "      <td>0.900996</td>\n",
       "      <td>0.250897</td>\n",
       "      <td>0.745005</td>\n",
       "      <td>0.573416</td>\n",
       "      <td>1.061143</td>\n",
       "      <td>0.722736</td>\n",
       "      <td>11</td>\n",
       "    </tr>\n",
       "    <tr>\n",
       "      <th>2</th>\n",
       "      <td>1.162108</td>\n",
       "      <td>-3.020727</td>\n",
       "      <td>-2.975535</td>\n",
       "      <td>-2.906386</td>\n",
       "      <td>-1.678148</td>\n",
       "      <td>-1.640084</td>\n",
       "      <td>-1.649238</td>\n",
       "      <td>-1.696570</td>\n",
       "      <td>6</td>\n",
       "    </tr>\n",
       "    <tr>\n",
       "      <th>3</th>\n",
       "      <td>-1.216336</td>\n",
       "      <td>0.658976</td>\n",
       "      <td>0.747975</td>\n",
       "      <td>0.382451</td>\n",
       "      <td>0.274140</td>\n",
       "      <td>0.169850</td>\n",
       "      <td>0.357534</td>\n",
       "      <td>0.185113</td>\n",
       "      <td>10</td>\n",
       "    </tr>\n",
       "    <tr>\n",
       "      <th>4</th>\n",
       "      <td>1.162108</td>\n",
       "      <td>0.320613</td>\n",
       "      <td>0.237905</td>\n",
       "      <td>-0.143763</td>\n",
       "      <td>-0.015371</td>\n",
       "      <td>0.140499</td>\n",
       "      <td>-0.093370</td>\n",
       "      <td>-0.218105</td>\n",
       "      <td>9</td>\n",
       "    </tr>\n",
       "  </tbody>\n",
       "</table>\n",
       "</div>"
      ],
      "text/plain": [
       "         Sex    Length  Diameter    Height  Whole weight  Whole weight.1  \\\n",
       "id                                                                         \n",
       "0  -0.027114  0.278317  0.288912  0.382451     -0.038314       -0.060061   \n",
       "1  -0.027114  0.955044  0.900996  0.250897      0.745005        0.573416   \n",
       "2   1.162108 -3.020727 -2.975535 -2.906386     -1.678148       -1.640084   \n",
       "3  -1.216336  0.658976  0.747975  0.382451      0.274140        0.169850   \n",
       "4   1.162108  0.320613  0.237905 -0.143763     -0.015371        0.140499   \n",
       "\n",
       "    Whole weight.2  Shell weight  Rings  \n",
       "id                                       \n",
       "0        -0.227155      0.108309     11  \n",
       "1         1.061143      0.722736     11  \n",
       "2        -1.649238     -1.696570      6  \n",
       "3         0.357534      0.185113     10  \n",
       "4        -0.093370     -0.218105      9  "
      ]
     },
     "execution_count": 7,
     "metadata": {},
     "output_type": "execute_result"
    }
   ],
   "source": [
    "df['Sex'] = df['Sex'].map({\n",
    "    'M' : 0,\n",
    "    'F' : 1,\n",
    "    'I' : 2\n",
    "})\n",
    "\n",
    "scaler = StandardScaler()\n",
    "df[features] = scaler.fit_transform(df[features])\n",
    "\n",
    "df.head()"
   ]
  },
  {
   "cell_type": "code",
   "execution_count": 8,
   "metadata": {},
   "outputs": [
    {
     "name": "stderr",
     "output_type": "stream",
     "text": [
      "c:\\Users\\mohit\\anaconda3\\envs\\abalone\\Lib\\site-packages\\sklearn\\utils\\validation.py:2739: UserWarning: X does not have valid feature names, but StandardScaler was fitted with feature names\n",
      "  warnings.warn(\n"
     ]
    }
   ],
   "source": [
    "sample = [2, 0.485, 0.370, 0.12, 0.5805, 0.2655, 0.1095, 0.13]\n",
    "\n",
    "data = scaler.transform([sample])"
   ]
  },
  {
   "cell_type": "code",
   "execution_count": 9,
   "metadata": {},
   "outputs": [
    {
     "data": {
      "text/plain": [
       "array([7])"
      ]
     },
     "execution_count": 9,
     "metadata": {},
     "output_type": "execute_result"
    }
   ],
   "source": [
    "import pickle\n",
    "from xgboost import XGBClassifier\n",
    "with open('../trained_models/xgboost.pkl', 'rb') as fh:\n",
    "    model: XGBClassifier = pickle.load(fh)\n",
    "    \n",
    "model.predict(data)"
   ]
  },
  {
   "cell_type": "code",
   "execution_count": 10,
   "metadata": {},
   "outputs": [],
   "source": [
    "from typing import List\n",
    "import numpy as np\n",
    "\n",
    "class PrdictModel:\n",
    "\tdef __init__(self, model, scaler):\n",
    "\t\tself.model = model\n",
    "\t\tself.scaler = scaler\n",
    "\n",
    "\tdef predict(self, sample: List[np.number])-> np.ndarray:\n",
    "\t\tassert len(sample) == 8, \"Sample must have 8 features (1 int and rest float)\"\n",
    "\t\tdata = self.scaler.transform([sample])\n",
    "\t\toutput: int = int(self.model.predict(data)[0])\n",
    "\n",
    "\t\treturn output"
   ]
  },
  {
   "cell_type": "code",
   "execution_count": 11,
   "metadata": {},
   "outputs": [],
   "source": [
    "# preparing model \n",
    "output_model = PrdictModel(model, scaler)"
   ]
  },
  {
   "cell_type": "code",
   "execution_count": 12,
   "metadata": {},
   "outputs": [
    {
     "name": "stderr",
     "output_type": "stream",
     "text": [
      "c:\\Users\\mohit\\anaconda3\\envs\\abalone\\Lib\\site-packages\\sklearn\\utils\\validation.py:2739: UserWarning: X does not have valid feature names, but StandardScaler was fitted with feature names\n",
      "  warnings.warn(\n"
     ]
    },
    {
     "data": {
      "text/plain": [
       "7"
      ]
     },
     "execution_count": 12,
     "metadata": {},
     "output_type": "execute_result"
    }
   ],
   "source": [
    "output_model.predict(sample)"
   ]
  },
  {
   "cell_type": "code",
   "execution_count": 13,
   "metadata": {},
   "outputs": [],
   "source": [
    "with open('../trained_models/deployment_model.pkl', 'wb') as fh:\n",
    "    pickle.dump(output_model, fh)\n"
   ]
  },
  {
   "cell_type": "code",
   "execution_count": null,
   "metadata": {},
   "outputs": [],
   "source": []
  },
  {
   "cell_type": "code",
   "execution_count": null,
   "metadata": {},
   "outputs": [],
   "source": []
  }
 ],
 "metadata": {
  "kernelspec": {
   "display_name": "abalone",
   "language": "python",
   "name": "python3"
  },
  "language_info": {
   "codemirror_mode": {
    "name": "ipython",
    "version": 3
   },
   "file_extension": ".py",
   "mimetype": "text/x-python",
   "name": "python",
   "nbconvert_exporter": "python",
   "pygments_lexer": "ipython3",
   "version": "3.13.1"
  }
 },
 "nbformat": 4,
 "nbformat_minor": 2
}
