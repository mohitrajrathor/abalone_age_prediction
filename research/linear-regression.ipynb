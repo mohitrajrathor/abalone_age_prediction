{
 "cells": [
  {
   "cell_type": "markdown",
   "metadata": {},
   "source": [
    "# linear-regression pridiction"
   ]
  },
  {
   "cell_type": "code",
   "execution_count": 2,
   "metadata": {},
   "outputs": [],
   "source": [
    "import pandas as pd \n",
    "import numpy as np\n",
    "from sklearn.model_selection import train_test_split\n",
    "from sklearn.linear_model import LogisticRegression\n",
    "from sklearn.metrics import accuracy_score, classification_report\n",
    "from sklearn.preprocessing import StandardScaler\n",
    "from evolution import rmsle"
   ]
  },
  {
   "cell_type": "code",
   "execution_count": 3,
   "metadata": {},
   "outputs": [
    {
     "data": {
      "text/html": [
       "<div>\n",
       "<style scoped>\n",
       "    .dataframe tbody tr th:only-of-type {\n",
       "        vertical-align: middle;\n",
       "    }\n",
       "\n",
       "    .dataframe tbody tr th {\n",
       "        vertical-align: top;\n",
       "    }\n",
       "\n",
       "    .dataframe thead th {\n",
       "        text-align: right;\n",
       "    }\n",
       "</style>\n",
       "<table border=\"1\" class=\"dataframe\">\n",
       "  <thead>\n",
       "    <tr style=\"text-align: right;\">\n",
       "      <th></th>\n",
       "      <th>Sex</th>\n",
       "      <th>Length</th>\n",
       "      <th>Diameter</th>\n",
       "      <th>Height</th>\n",
       "      <th>Whole weight</th>\n",
       "      <th>Whole weight.1</th>\n",
       "      <th>Whole weight.2</th>\n",
       "      <th>Shell weight</th>\n",
       "      <th>Rings</th>\n",
       "    </tr>\n",
       "    <tr>\n",
       "      <th>id</th>\n",
       "      <th></th>\n",
       "      <th></th>\n",
       "      <th></th>\n",
       "      <th></th>\n",
       "      <th></th>\n",
       "      <th></th>\n",
       "      <th></th>\n",
       "      <th></th>\n",
       "      <th></th>\n",
       "    </tr>\n",
       "  </thead>\n",
       "  <tbody>\n",
       "    <tr>\n",
       "      <th>0</th>\n",
       "      <td>1</td>\n",
       "      <td>0.278317</td>\n",
       "      <td>0.288912</td>\n",
       "      <td>0.382451</td>\n",
       "      <td>-0.038314</td>\n",
       "      <td>-0.060061</td>\n",
       "      <td>-0.227155</td>\n",
       "      <td>0.108309</td>\n",
       "      <td>11</td>\n",
       "    </tr>\n",
       "    <tr>\n",
       "      <th>1</th>\n",
       "      <td>1</td>\n",
       "      <td>0.955044</td>\n",
       "      <td>0.900996</td>\n",
       "      <td>0.250897</td>\n",
       "      <td>0.745005</td>\n",
       "      <td>0.573416</td>\n",
       "      <td>1.061143</td>\n",
       "      <td>0.722736</td>\n",
       "      <td>11</td>\n",
       "    </tr>\n",
       "    <tr>\n",
       "      <th>2</th>\n",
       "      <td>2</td>\n",
       "      <td>-3.020727</td>\n",
       "      <td>-2.975535</td>\n",
       "      <td>-2.906386</td>\n",
       "      <td>-1.678148</td>\n",
       "      <td>-1.640084</td>\n",
       "      <td>-1.649238</td>\n",
       "      <td>-1.696570</td>\n",
       "      <td>6</td>\n",
       "    </tr>\n",
       "    <tr>\n",
       "      <th>3</th>\n",
       "      <td>0</td>\n",
       "      <td>0.658976</td>\n",
       "      <td>0.747975</td>\n",
       "      <td>0.382451</td>\n",
       "      <td>0.274140</td>\n",
       "      <td>0.169850</td>\n",
       "      <td>0.357534</td>\n",
       "      <td>0.185113</td>\n",
       "      <td>10</td>\n",
       "    </tr>\n",
       "    <tr>\n",
       "      <th>4</th>\n",
       "      <td>2</td>\n",
       "      <td>0.320613</td>\n",
       "      <td>0.237905</td>\n",
       "      <td>-0.143763</td>\n",
       "      <td>-0.015371</td>\n",
       "      <td>0.140499</td>\n",
       "      <td>-0.093370</td>\n",
       "      <td>-0.218105</td>\n",
       "      <td>9</td>\n",
       "    </tr>\n",
       "  </tbody>\n",
       "</table>\n",
       "</div>"
      ],
      "text/plain": [
       "    Sex    Length  Diameter    Height  Whole weight  Whole weight.1  \\\n",
       "id                                                                    \n",
       "0     1  0.278317  0.288912  0.382451     -0.038314       -0.060061   \n",
       "1     1  0.955044  0.900996  0.250897      0.745005        0.573416   \n",
       "2     2 -3.020727 -2.975535 -2.906386     -1.678148       -1.640084   \n",
       "3     0  0.658976  0.747975  0.382451      0.274140        0.169850   \n",
       "4     2  0.320613  0.237905 -0.143763     -0.015371        0.140499   \n",
       "\n",
       "    Whole weight.2  Shell weight  Rings  \n",
       "id                                       \n",
       "0        -0.227155      0.108309     11  \n",
       "1         1.061143      0.722736     11  \n",
       "2        -1.649238     -1.696570      6  \n",
       "3         0.357534      0.185113     10  \n",
       "4        -0.093370     -0.218105      9  "
      ]
     },
     "execution_count": 3,
     "metadata": {},
     "output_type": "execute_result"
    }
   ],
   "source": [
    "# Load the dataset\n",
    "df = pd.read_csv(\"../data/train.csv\", index_col='id')\n",
    "\n",
    "# standardize the features and lebel the \"Sex\" features\n",
    "df['Sex'] = df['Sex'].map({'F': 1, 'I': 2, 'M': 0})\n",
    "\n",
    "# standardize the features\n",
    "scaler = StandardScaler()\n",
    "scaler.fit(df[['Length', 'Diameter', 'Height', 'Whole weight', 'Whole weight.1', 'Whole weight.2', 'Shell weight']])\n",
    "df[['Length', 'Diameter', 'Height', 'Whole weight', 'Whole weight.1', 'Whole weight.2', 'Shell weight']] = scaler.transform(df[['Length', 'Diameter', 'Height', 'Whole weight', 'Whole weight.1', 'Whole weight.2', 'Shell weight']])\n",
    "df.head()"
   ]
  },
  {
   "cell_type": "code",
   "execution_count": 4,
   "metadata": {},
   "outputs": [
    {
     "name": "stdout",
     "output_type": "stream",
     "text": [
      "Accuracy score: 0.3609777630635105\n",
      "Classification report:\n",
      "               precision    recall  f1-score   support\n",
      "\n",
      "           1       0.00      0.00      0.00         6\n",
      "           2       0.00      0.00      0.00         8\n",
      "           3       0.00      0.00      0.00        77\n",
      "           4       0.56      0.51      0.53       284\n",
      "           5       0.46      0.52      0.49       596\n",
      "           6       0.44      0.37      0.40      1088\n",
      "           7       0.44      0.51      0.47      1781\n",
      "           8       0.46      0.48      0.47      2947\n",
      "           9       0.37      0.58      0.45      3482\n",
      "          10       0.24      0.27      0.26      2454\n",
      "          11       0.32      0.29      0.31      1636\n",
      "          12       0.00      0.00      0.00       965\n",
      "          13       0.15      0.23      0.18       786\n",
      "          14       0.00      0.00      0.00       519\n",
      "          15       0.00      0.00      0.00       416\n",
      "          16       0.18      0.15      0.16       287\n",
      "          17       0.10      0.01      0.02       254\n",
      "          18       0.00      0.00      0.00       173\n",
      "          19       0.00      0.00      0.00       121\n",
      "          20       0.12      0.02      0.04        95\n",
      "          21       0.00      0.00      0.00        55\n",
      "          22       0.00      0.00      0.00        22\n",
      "          23       0.00      0.00      0.00        40\n",
      "          24       0.00      0.00      0.00         8\n",
      "          25       0.00      0.00      0.00         6\n",
      "          26       0.00      0.00      0.00         3\n",
      "          27       0.00      0.00      0.00         7\n",
      "          29       0.00      0.00      0.00         7\n",
      "\n",
      "    accuracy                           0.36     18123\n",
      "   macro avg       0.14      0.14      0.13     18123\n",
      "weighted avg       0.31      0.36      0.33     18123\n",
      "\n",
      "RMSLE score : 0.17707486893491808\n"
     ]
    },
    {
     "name": "stderr",
     "output_type": "stream",
     "text": [
      "c:\\Users\\mohit\\anaconda3\\Lib\\site-packages\\sklearn\\linear_model\\_logistic.py:460: ConvergenceWarning: lbfgs failed to converge (status=1):\n",
      "STOP: TOTAL NO. of ITERATIONS REACHED LIMIT.\n",
      "\n",
      "Increase the number of iterations (max_iter) or scale the data as shown in:\n",
      "    https://scikit-learn.org/stable/modules/preprocessing.html\n",
      "Please also refer to the documentation for alternative solver options:\n",
      "    https://scikit-learn.org/stable/modules/linear_model.html#logistic-regression\n",
      "  n_iter_i = _check_optimize_result(\n",
      "c:\\Users\\mohit\\anaconda3\\Lib\\site-packages\\sklearn\\base.py:457: UserWarning: X has feature names, but LogisticRegression was fitted without feature names\n",
      "  warnings.warn(\n",
      "c:\\Users\\mohit\\anaconda3\\Lib\\site-packages\\sklearn\\metrics\\_classification.py:1469: UndefinedMetricWarning: Precision and F-score are ill-defined and being set to 0.0 in labels with no predicted samples. Use `zero_division` parameter to control this behavior.\n",
      "  _warn_prf(average, modifier, msg_start, len(result))\n",
      "c:\\Users\\mohit\\anaconda3\\Lib\\site-packages\\sklearn\\metrics\\_classification.py:1469: UndefinedMetricWarning: Precision and F-score are ill-defined and being set to 0.0 in labels with no predicted samples. Use `zero_division` parameter to control this behavior.\n",
      "  _warn_prf(average, modifier, msg_start, len(result))\n",
      "c:\\Users\\mohit\\anaconda3\\Lib\\site-packages\\sklearn\\metrics\\_classification.py:1469: UndefinedMetricWarning: Precision and F-score are ill-defined and being set to 0.0 in labels with no predicted samples. Use `zero_division` parameter to control this behavior.\n",
      "  _warn_prf(average, modifier, msg_start, len(result))\n"
     ]
    }
   ],
   "source": [
    "# splitting the dataset\n",
    "\n",
    "X_train, X_test, y_train, y_test = train_test_split(df[['Sex', 'Length', 'Height', 'Whole weight', 'Whole weight.1', 'Whole weight.2', 'Shell weight']], df['Rings'], test_size=0.2, random_state=42)\n",
    "# now let's train the classifier model\n",
    "linreg = LogisticRegression(multi_class='multinomial', solver='lbfgs', max_iter=1000)\n",
    "\n",
    "linreg.fit(df[['Sex', 'Length', 'Height', 'Whole weight', 'Whole weight.1', 'Whole weight.2', 'Shell weight']].values, df['Rings'].values)\n",
    "\n",
    "\n",
    "y_pred = linreg.predict(X_test)\n",
    "\n",
    "\n",
    "accuracy = accuracy_score(y_test, y_pred)\n",
    "print(\"Accuracy score:\", accuracy)\n",
    "print(\"Classification report:\\n\", classification_report(y_test, y_pred))\n",
    "print(\"RMSLE score :\", rmsle(y_test, y_pred))\n"
   ]
  },
  {
   "cell_type": "code",
   "execution_count": 5,
   "metadata": {},
   "outputs": [],
   "source": [
    "# # choosing best parameters\n",
    "# from itertools import combinations\n",
    "\n",
    "# features = list(df.columns)\n",
    "# features.remove('Rings')\n",
    "# # features.remove('Sex')\n",
    "\n",
    "# all_combinations = []\n",
    "# for i in range(2, len(features)+1):\n",
    "#     all_combinations.extend(combinations(features, i))\n",
    "\n",
    "# print(len(all_combinations))\n",
    "\n",
    "# # splitting the dataset\n",
    "\n",
    "# min_rmsle_score = 10000\n",
    "# best_features = None\n",
    "\n",
    "# for f in all_combinations:\n",
    "#     X_train, X_test, y_train, y_test = train_test_split(df[list(f)], df['Rings'], test_size=0.2, random_state=42)\n",
    "#     linreg = LogisticRegression(multi_class='multinomial', solver='lbfgs', max_iter=1000)\n",
    "#     linreg.fit(X_train, y_train)\n",
    "#     y_pred = linreg.predict(X_test)\n",
    "#     rmsle_score = rmsle(y_test, y_pred)\n",
    "#     if rmsle_score < min_rmsle_score:\n",
    "#         min_rmsle_score = rmsle_score\n",
    "#         best_features = f\n",
    "\n",
    "# print(\"Best features:\", best_features)\n",
    "# print(\"Min RMSLE score:\", min_rmsle_score)\n"
   ]
  },
  {
   "cell_type": "code",
   "execution_count": 6,
   "metadata": {},
   "outputs": [],
   "source": [
    "# let's store this model for future use\n",
    "import pickle \n",
    "\n",
    "with open(\"../trained_models/LinearRegression.pkl\", \"wb\") as f:\n",
    "    pickle.dump(linreg, f)"
   ]
  },
  {
   "cell_type": "code",
   "execution_count": 7,
   "metadata": {},
   "outputs": [
    {
     "name": "stderr",
     "output_type": "stream",
     "text": [
      "c:\\Users\\mohit\\anaconda3\\Lib\\site-packages\\sklearn\\base.py:457: UserWarning: X has feature names, but LogisticRegression was fitted without feature names\n",
      "  warnings.warn(\n"
     ]
    }
   ],
   "source": [
    "# let's submit knn result to the kaggle competition\n",
    "\n",
    "test_df = pd.read_csv(\"../data/test.csv\", index_col=\"id\")\n",
    "test_df['Sex'] = test_df['Sex'].map({'F': 1, 'I': 2, 'M': 0})\n",
    "\n",
    "test_df[['Length', 'Diameter', 'Height', 'Whole weight', 'Whole weight.1', 'Whole weight.2', 'Shell weight']] = scaler.fit_transform(test_df[['Length', 'Diameter', 'Height', 'Whole weight', 'Whole weight.1', 'Whole weight.2', 'Shell weight']])\n",
    "\n",
    "test_df['pred_Rings'] = linreg.predict(test_df[['Sex', 'Length', 'Height', 'Whole weight', 'Whole weight.1', 'Whole weight.2', 'Shell weight']])\n",
    "\n",
    "test_df.to_csv('../data/modified_test.csv', index=False)\n",
    "\n",
    "sub = pd.DataFrame({'id': test_df.index, 'Rings': test_df['pred_Rings']})\n",
    "sub.to_csv(\"../submission/LinearRegression.csv\", index=False)"
   ]
  },
  {
   "cell_type": "code",
   "execution_count": 8,
   "metadata": {},
   "outputs": [
    {
     "name": "stdout",
     "output_type": "stream",
     "text": [
      "Successfully submitted to Regression with an Abalone Dataset"
     ]
    },
    {
     "name": "stderr",
     "output_type": "stream",
     "text": [
      "\n",
      "  0%|          | 0.00/599k [00:00<?, ?B/s]\n",
      "  1%|▏         | 8.00k/599k [00:00<00:43, 13.9kB/s]\n",
      "100%|██████████| 599k/599k [00:03<00:00, 198kB/s]  \n"
     ]
    },
    {
     "name": "stdout",
     "output_type": "stream",
     "text": [
      "\n"
     ]
    }
   ],
   "source": [
    "# submitting to kaggle\n",
    "\n",
    "!kaggle competitions submit -c playground-series-s4e4 -f ../submission/LinearRegression.csv -m \"LinearRegression model submission\""
   ]
  },
  {
   "cell_type": "code",
   "execution_count": 9,
   "metadata": {},
   "outputs": [],
   "source": [
    "# find out the most useful features of naive bayes\n"
   ]
  }
 ],
 "metadata": {
  "kernelspec": {
   "display_name": "base",
   "language": "python",
   "name": "python3"
  },
  "language_info": {
   "codemirror_mode": {
    "name": "ipython",
    "version": 3
   },
   "file_extension": ".py",
   "mimetype": "text/x-python",
   "name": "python",
   "nbconvert_exporter": "python",
   "pygments_lexer": "ipython3",
   "version": "3.11.5"
  }
 },
 "nbformat": 4,
 "nbformat_minor": 2
}
